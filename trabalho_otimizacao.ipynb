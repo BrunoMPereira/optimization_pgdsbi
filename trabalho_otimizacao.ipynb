{
 "cells": [
  {
   "cell_type": "markdown",
   "metadata": {},
   "source": [
    "# Topic 2 - Knapsack Problem  \n",
    "\n",
    "Given a set of items, each with an associated weight ($w_i$) and value ($v_i$), the objective is to determine the combination of items to be placed in a knapsack with limited capacity ($W$) in order to maximize the total value of the selected items without exceeding the knapsack's capacity.  \n",
    "\n",
    "Formally, let ($n$) be the number of items, ($w_i$) the weight of item ($i$), ($v_i$) the value of item ($i$), and ($W$) the capacity of the knapsack. The problem can be described by the following maximization function:  \n",
    "\n",
    "$\\text{Maximize} \\sum_{i=1}^{n} v_i \\cdot x_i $  \n",
    "\n",
    "subject to:  \n",
    "\n",
    "$\\sum_{i=1}^{n} w_i \\cdot x_i \\leq W $  \n",
    "\n",
    "where ($x_i$) is a binary variable indicating whether item ($i$) is included in the knapsack (1 if included, 0 otherwise).  \n",
    "\n",
    "The **Knapsack Problem** is known to be **NP-hard**, meaning that no efficient algorithm is currently known to solve it in polynomial time for all cases."
   ]
  },
  {
   "cell_type": "markdown",
   "metadata": {},
   "source": [
    "## Dataset Generation"
   ]
  },
  {
   "cell_type": "code",
   "execution_count": 105,
   "metadata": {},
   "outputs": [],
   "source": [
    "import numpy as np\n",
    "\n",
    "def create_ksp(number_of_items, max_utility = 100, max_weight = 100):\n",
    "    utility = np.random.randint(0, max_utility, number_of_items)\n",
    "    capacity = np.random.randint(0, max_weight, number_of_items)\n",
    "    \n",
    "    return utility, capacity\n",
    "    \n"
   ]
  },
  {
   "cell_type": "markdown",
   "metadata": {},
   "source": [
    "## Objective Function"
   ]
  },
  {
   "cell_type": "code",
   "execution_count": 67,
   "metadata": {},
   "outputs": [],
   "source": [
    "def objective_function(utility, capacity, max_capacity, choice):\n",
    "    c = np.dot(capacity, choice)\n",
    "    if c <= max_capacity:\n",
    "        return np.dot(utility, choice)\n",
    "    else:\n",
    "        return 0"
   ]
  },
  {
   "cell_type": "markdown",
   "metadata": {},
   "source": [
    "## Population Generation\n",
    "My population are choices based on 1s and 0s so i have to replicate choices given before to build my population"
   ]
  },
  {
   "cell_type": "code",
   "execution_count": 17,
   "metadata": {},
   "outputs": [],
   "source": [
    "def populacao_inicial(n_pop, n_itens):\n",
    "    return [np.random.choice([0,1],n_itens) for _ in range(n_pop)]"
   ]
  },
  {
   "cell_type": "markdown",
   "metadata": {},
   "source": [
    "## Selection Candidates\n",
    "Made by tournament\n",
    "Each candidate is actually an representation of 0's and 1's that tells me if an item is chosen to be in the bag or not"
   ]
  },
  {
   "cell_type": "code",
   "execution_count": 114,
   "metadata": {},
   "outputs": [],
   "source": [
    "def selection(pop, scores, k=3):\n",
    "    selection_ix = np.random.randint(len(pop))\n",
    "    for ix in np.random.randint(0, len(pop), k-1):\n",
    "        if scores[ix] > scores[selection_ix]:\n",
    "            selection_ix = ix\n",
    "    return pop[selection_ix]"
   ]
  },
  {
   "cell_type": "markdown",
   "metadata": {},
   "source": [
    "## Cross Over\n",
    "Basically implements a mutation based on a 40-60 % rule, as it happens in nature."
   ]
  },
  {
   "cell_type": "code",
   "execution_count": 51,
   "metadata": {},
   "outputs": [],
   "source": [
    "def crossover(p1, p2, r_cross):\n",
    "    c1, c2 = p1.copy(), p2.copy()\n",
    "    if np.random.rand() < r_cross:\n",
    "        pt = int(0.5 * len(p1))\n",
    "        c1 = np.concatenate((p1[:pt], p2[pt:]))\n",
    "        c2 = np.concatenate((p2[:pt], p1[pt:]))\n",
    "    return np.array([c1, c2])"
   ]
  },
  {
   "cell_type": "markdown",
   "metadata": {},
   "source": [
    "## Mutation\n",
    "\n",
    "A mutation is when one of the randomly chosen items instead of 1 gets 0"
   ]
  },
  {
   "cell_type": "code",
   "execution_count": 95,
   "metadata": {},
   "outputs": [],
   "source": [
    "def mutation(chosen, r_mut):\n",
    "    for i in range(len(chosen)):\n",
    "        if np.random.rand() < r_mut:\n",
    "            chosen[i] = int(not bool(chosen[i]))"
   ]
  },
  {
   "cell_type": "markdown",
   "metadata": {},
   "source": [
    "## Genetic Algorithm\n",
    "With implementation of previous functions"
   ]
  },
  {
   "cell_type": "code",
   "execution_count": 123,
   "metadata": {},
   "outputs": [],
   "source": [
    "def algoritmo_genetico(objetive, n_itens, utility, capacity, max_capacity, n_pop, n_gen, p_mut, p_cross):\n",
    "    \n",
    "    pop = populacao_inicial(n_pop, n_itens)\n",
    "        \n",
    "    best, best_eval = pop[0], objetive(utility,capacity,max_capacity,pop[0])\n",
    "    \n",
    "    for gen in range(n_gen):\n",
    "        scores = [objetive(utility, capacity,max_capacity,c) for c in pop]\n",
    "        \n",
    "        for i in range(n_pop):\n",
    "            if scores[i] > best_eval:\n",
    "                best, best_eval = pop[i], scores[i]\n",
    "                print(f'Found new best in generation {gen} with capacity {np.dot(capacity,pop[i])} and utility {scores[i]}')\n",
    "                \n",
    "        # Selection\n",
    "        selected = [selection(pop, scores) for _ in range(n_pop)]\n",
    "        \n",
    "        children = list()\n",
    "        # Reproduction\n",
    "        \n",
    "        for i in range(0, n_pop, 2):\n",
    "            p1, p2 = selected[i], selected[i+1]\n",
    "            \n",
    "            for c in crossover(p1 ,p2, p_cross):\n",
    "                mutation(c,p_mut)\n",
    "                children.append(c)\n",
    "        \n",
    "        pop = children\n",
    "    \n",
    "    return [best, best_eval]\n"
   ]
  },
  {
   "cell_type": "markdown",
   "metadata": {},
   "source": [
    "## Inputs from user"
   ]
  },
  {
   "cell_type": "code",
   "execution_count": 116,
   "metadata": {},
   "outputs": [],
   "source": [
    "def get_inputs():\n",
    "    n_itens = int(input('Number of Items: '))\n",
    "    max_capacity_item = int(input('Maximum weight of itens: '))\n",
    "    max_utility_item = int(input('Maximum utility of itens: '))\n",
    "    max_capacity_bag = int(input('Maximum bag weight: '))\n",
    "    n_pop = int(input('Population Size: '))\n",
    "    n_gen = int(input('Number of generations: '))\n",
    "    mutation_rate = float(input('Mutation Rate: '))\n",
    "    crossover_rate = float(input('Crossover Rate: '))    \n",
    "    return n_itens, max_capacity_item, max_utility_item, max_capacity_bag, n_pop, n_gen, mutation_rate, crossover_rate"
   ]
  },
  {
   "cell_type": "markdown",
   "metadata": {},
   "source": [
    "# Structure of Solution\n",
    "1. Inputs\n",
    "2. Generate Items\n",
    "2. Application of Algorithm"
   ]
  },
  {
   "cell_type": "code",
   "execution_count": 124,
   "metadata": {},
   "outputs": [
    {
     "name": "stdout",
     "output_type": "stream",
     "text": [
      "Found new best in generation 42 with capacity 1498 and utility 1864\n",
      "Found new best in generation 87 with capacity 1438 and utility 2075\n"
     ]
    }
   ],
   "source": [
    "# 1\n",
    "n_itens, max_capacity, max_utility, max_capacity_bag, n_pop, n_gen, mutation_rate, crossover_rate = get_inputs()\n",
    "\n",
    "# 2\n",
    "utility, capacity = create_ksp(n_itens,max_utility,max_capacity)\n",
    "\n",
    "# 4\n",
    "result= algoritmo_genetico(objective_function, n_itens, utility, capacity, max_capacity_bag, n_pop, n_gen, mutation_rate, crossover_rate)"
   ]
  },
  {
   "cell_type": "code",
   "execution_count": 128,
   "metadata": {},
   "outputs": [
    {
     "name": "stdout",
     "output_type": "stream",
     "text": [
      "Best solution for 100 generations has capacity 1438 and utility 2075\n"
     ]
    }
   ],
   "source": [
    "print(f'Best solution for {n_gen} generations has capacity {np.dot(capacity,result[0])} and utility {result[1]}')"
   ]
  }
 ],
 "metadata": {
  "kernelspec": {
   "display_name": "Python 3",
   "language": "python",
   "name": "python3"
  },
  "language_info": {
   "codemirror_mode": {
    "name": "ipython",
    "version": 3
   },
   "file_extension": ".py",
   "mimetype": "text/x-python",
   "name": "python",
   "nbconvert_exporter": "python",
   "pygments_lexer": "ipython3",
   "version": "3.9.4"
  }
 },
 "nbformat": 4,
 "nbformat_minor": 4
}
