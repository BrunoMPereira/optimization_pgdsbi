{
 "cells": [
  {
   "cell_type": "markdown",
   "metadata": {},
   "source": [
    "# Topic 2 - Knapsack Problem  \n",
    "\n",
    "Given a set of items, each with an associated weight ($w_i$) and value ($v_i$), the objective is to determine the combination of items to be placed in a knapsack with limited capacity ($W$) in order to maximize the total value of the selected items without exceeding the knapsack's capacity.  \n",
    "\n",
    "Formally, let ($n$) be the number of items, ($w_i$) the weight of item ($i$), ($v_i$) the value of item ($i$), and ($W$) the capacity of the knapsack. The problem can be described by the following maximization function:  \n",
    "\n",
    "$\\text{Maximize} \\sum_{i=1}^{n} v_i \\cdot x_i $  \n",
    "\n",
    "subject to:  \n",
    "\n",
    "$\\sum_{i=1}^{n} w_i \\cdot x_i \\leq W $  \n",
    "\n",
    "where ($x_i$) is a binary variable indicating whether item ($i$) is included in the knapsack (1 if included, 0 otherwise).  \n",
    "\n",
    "The **Knapsack Problem** is known to be **NP-hard**, meaning that no efficient algorithm is currently known to solve it in polynomial time for all cases."
   ]
  },
  {
   "cell_type": "markdown",
   "metadata": {},
   "source": [
    "## Dataset Generation"
   ]
  },
  {
   "cell_type": "code",
   "execution_count": 1,
   "metadata": {},
   "outputs": [],
   "source": [
    "import numpy as np\n",
    "\n",
    "def create_ksp(number_of_items, max_utility = 100, max_weight = 100):\n",
    "    utility = np.random.randint(0, max_utility, number_of_items)\n",
    "    capacity = np.random.randint(0, max_weight, number_of_items)\n",
    "    \n",
    "    return utility, capacity\n",
    "    \n"
   ]
  },
  {
   "cell_type": "markdown",
   "metadata": {},
   "source": [
    "## Objective Function"
   ]
  },
  {
   "cell_type": "code",
   "execution_count": 3,
   "metadata": {},
   "outputs": [],
   "source": [
    "def objective_function(utility, capacity, max_capacity, choice):\n",
    "    c = np.dot(capacity, choice)\n",
    "    if c <= max_capacity:\n",
    "        return np.dot(utility, choice)\n",
    "    else:\n",
    "        return 0"
   ]
  },
  {
   "cell_type": "markdown",
   "metadata": {},
   "source": [
    "## Population Generation\n",
    "My population are choices based on 1s and 0s so i have to replicate choices given before to build my population"
   ]
  },
  {
   "cell_type": "code",
   "execution_count": 4,
   "metadata": {},
   "outputs": [],
   "source": [
    "def populacao_inicial(n_pop, n_itens):\n",
    "    return [np.random.choice([0,1],n_itens) for _ in range(n_pop)]"
   ]
  },
  {
   "cell_type": "markdown",
   "metadata": {},
   "source": [
    "## Selection Candidates\n",
    "Made by tournament\n",
    "Each candidate is actually an representation of 0's and 1's that tells me if an item is chosen to be in the bag or not"
   ]
  },
  {
   "cell_type": "code",
   "execution_count": 5,
   "metadata": {},
   "outputs": [],
   "source": [
    "def selection(pop, scores, k=3):\n",
    "    selection_ix = np.random.randint(len(pop))\n",
    "    for ix in np.random.randint(0, len(pop), k-1):\n",
    "        if scores[ix] > scores[selection_ix]:\n",
    "            selection_ix = ix\n",
    "    return pop[selection_ix]"
   ]
  },
  {
   "cell_type": "markdown",
   "metadata": {},
   "source": [
    "## Cross Over\n",
    "Basically implements a crossover based on a 50 % rule. 2 childs, one with 1st half of 1st parent and 2nd half of 2nd parent. Another with 1st half of 2nd parent and 2nd half of 1st parent."
   ]
  },
  {
   "cell_type": "code",
   "execution_count": 6,
   "metadata": {},
   "outputs": [],
   "source": [
    "def crossover(p1, p2, r_cross):\n",
    "    c1, c2 = p1.copy(), p2.copy()\n",
    "    if np.random.rand() < r_cross:\n",
    "        pt = int(0.5 * len(p1))\n",
    "        c1 = np.concatenate((p1[:pt], p2[pt:]))\n",
    "        c2 = np.concatenate((p2[:pt], p1[pt:]))\n",
    "    return np.array([c1, c2])"
   ]
  },
  {
   "cell_type": "markdown",
   "metadata": {},
   "source": [
    "## Mutation\n",
    "\n",
    "A mutation is when one of the randomly chosen items changes from being selected to not selected or vice-versa"
   ]
  },
  {
   "cell_type": "code",
   "execution_count": 7,
   "metadata": {},
   "outputs": [],
   "source": [
    "def mutation(chosen, r_mut):\n",
    "    for i in range(len(chosen)):\n",
    "        if np.random.rand() < r_mut:\n",
    "            chosen[i] = int(not bool(chosen[i]))"
   ]
  },
  {
   "cell_type": "markdown",
   "metadata": {},
   "source": [
    "## Genetic Algorithm\n",
    "With implementation of previous functions"
   ]
  },
  {
   "cell_type": "code",
   "execution_count": 8,
   "metadata": {},
   "outputs": [],
   "source": [
    "def algoritmo_genetico(objetive, n_itens, utility, capacity, max_capacity, n_pop, n_gen, p_mut, p_cross):\n",
    "    \n",
    "    pop = populacao_inicial(n_pop, n_itens)\n",
    "        \n",
    "    best, best_eval = pop[0], objetive(utility,capacity,max_capacity,pop[0])\n",
    "    \n",
    "    for gen in range(n_gen):\n",
    "        scores = [objetive(utility, capacity,max_capacity,c) for c in pop]\n",
    "        \n",
    "        for i in range(n_pop):\n",
    "            if scores[i] > best_eval:\n",
    "                best, best_eval = pop[i], scores[i]\n",
    "                print(f'Found new best in generation {gen} with capacity {np.dot(capacity,pop[i])} and utility {scores[i]}')\n",
    "                \n",
    "        # Selection\n",
    "        selected = [selection(pop, scores) for _ in range(n_pop)]\n",
    "        \n",
    "        children = list()\n",
    "        # Reproduction\n",
    "        \n",
    "        for i in range(0, n_pop, 2):\n",
    "            p1, p2 = selected[i], selected[i+1]\n",
    "            \n",
    "            for c in crossover(p1 ,p2, p_cross):\n",
    "                mutation(c,p_mut)\n",
    "                children.append(c)\n",
    "        \n",
    "        pop = children\n",
    "    \n",
    "    return [best, best_eval]\n"
   ]
  },
  {
   "cell_type": "markdown",
   "metadata": {},
   "source": [
    "## Inputs from user"
   ]
  },
  {
   "cell_type": "code",
   "execution_count": 9,
   "metadata": {},
   "outputs": [],
   "source": [
    "def get_inputs():\n",
    "    n_itens = int(input('Number of Items: '))\n",
    "    max_capacity_item = int(input('Maximum weight of itens: '))\n",
    "    max_utility_item = int(input('Maximum utility of itens: '))\n",
    "    max_capacity_bag = int(input('Maximum bag weight: '))\n",
    "    n_pop = int(input('Population Size: '))\n",
    "    n_gen = int(input('Number of generations: '))\n",
    "    mutation_rate = float(input('Mutation Rate: '))\n",
    "    crossover_rate = float(input('Crossover Rate: '))    \n",
    "    return n_itens, max_capacity_item, max_utility_item, max_capacity_bag, n_pop, n_gen, mutation_rate, crossover_rate"
   ]
  },
  {
   "cell_type": "markdown",
   "metadata": {},
   "source": [
    "# Structure of Solution\n",
    "1. Inputs\n",
    "2. Generate Items\n",
    "2. Application of Algorithm"
   ]
  },
  {
   "cell_type": "code",
   "execution_count": 10,
   "metadata": {},
   "outputs": [
    {
     "name": "stdout",
     "output_type": "stream",
     "text": [
      "Found new best in generation 0 with capacity 2334 and utility 2290\n",
      "Found new best in generation 0 with capacity 2298 and utility 2364\n",
      "Found new best in generation 0 with capacity 2227 and utility 2377\n",
      "Found new best in generation 0 with capacity 2413 and utility 2499\n",
      "Found new best in generation 0 with capacity 2486 and utility 2559\n",
      "Found new best in generation 0 with capacity 2179 and utility 2630\n",
      "Found new best in generation 0 with capacity 2249 and utility 2699\n",
      "Found new best in generation 0 with capacity 2346 and utility 2890\n",
      "Found new best in generation 0 with capacity 2478 and utility 3002\n",
      "Found new best in generation 3 with capacity 2459 and utility 3032\n",
      "Found new best in generation 4 with capacity 2478 and utility 3044\n",
      "Found new best in generation 4 with capacity 2499 and utility 3063\n",
      "Found new best in generation 5 with capacity 2448 and utility 3127\n",
      "Found new best in generation 6 with capacity 2491 and utility 3149\n",
      "Found new best in generation 6 with capacity 2431 and utility 3172\n",
      "Found new best in generation 7 with capacity 2432 and utility 3203\n",
      "Found new best in generation 7 with capacity 2361 and utility 3251\n",
      "Found new best in generation 9 with capacity 2478 and utility 3307\n",
      "Found new best in generation 10 with capacity 2484 and utility 3406\n",
      "Found new best in generation 12 with capacity 2483 and utility 3436\n",
      "Found new best in generation 20 with capacity 2334 and utility 3450\n",
      "Found new best in generation 24 with capacity 2445 and utility 3464\n",
      "Found new best in generation 34 with capacity 2481 and utility 3466\n",
      "Found new best in generation 36 with capacity 2480 and utility 3471\n",
      "Found new best in generation 38 with capacity 2459 and utility 3524\n",
      "Found new best in generation 50 with capacity 2488 and utility 3528\n",
      "Found new best in generation 58 with capacity 2497 and utility 3541\n",
      "Found new best in generation 63 with capacity 2473 and utility 3579\n",
      "Found new best in generation 71 with capacity 2475 and utility 3610\n",
      "Found new best in generation 86 with capacity 2464 and utility 3675\n"
     ]
    }
   ],
   "source": [
    "# 1\n",
    "n_itens, max_capacity, max_utility, max_capacity_bag, n_pop, n_gen, mutation_rate, crossover_rate = get_inputs()\n",
    "\n",
    "# 2\n",
    "utility, capacity = create_ksp(n_itens,max_utility,max_capacity)\n",
    "\n",
    "# 3\n",
    "result= algoritmo_genetico(objective_function, n_itens, utility, capacity, max_capacity_bag, n_pop, n_gen, mutation_rate, crossover_rate)"
   ]
  },
  {
   "cell_type": "code",
   "execution_count": 11,
   "metadata": {},
   "outputs": [
    {
     "name": "stdout",
     "output_type": "stream",
     "text": [
      "Best solution for 200 generations has capacity 2464 and utility 3675\n"
     ]
    }
   ],
   "source": [
    "print(f'Best solution for {n_gen} generations has capacity {np.dot(capacity,result[0])} and utility {result[1]}')"
   ]
  }
 ],
 "metadata": {
  "kernelspec": {
   "display_name": "base",
   "language": "python",
   "name": "python3"
  },
  "language_info": {
   "codemirror_mode": {
    "name": "ipython",
    "version": 3
   },
   "file_extension": ".py",
   "mimetype": "text/x-python",
   "name": "python",
   "nbconvert_exporter": "python",
   "pygments_lexer": "ipython3",
   "version": "3.12.7"
  }
 },
 "nbformat": 4,
 "nbformat_minor": 4
}
